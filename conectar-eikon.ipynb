{
 "cells": [
  {
   "cell_type": "code",
   "execution_count": 1,
   "metadata": {},
   "outputs": [],
   "source": [
    "import eikon as ek\n",
    "import numpy as np\n",
    "import pandas as pd"
   ]
  },
  {
   "cell_type": "code",
   "execution_count": 5,
   "metadata": {},
   "outputs": [],
   "source": [
    "import configparser as cp\n",
    "import cufflinks as cf"
   ]
  },
  {
   "cell_type": "code",
   "execution_count": 4,
   "metadata": {},
   "outputs": [
    {
     "data": {
      "text/plain": [
       "'1.1.16'"
      ]
     },
     "execution_count": 4,
     "metadata": {},
     "output_type": "execute_result"
    }
   ],
   "source": [
    "ek.__version__"
   ]
  },
  {
   "cell_type": "code",
   "execution_count": 6,
   "metadata": {},
   "outputs": [
    {
     "data": {
      "text/plain": [
       "['eikon.cfg']"
      ]
     },
     "execution_count": 6,
     "metadata": {},
     "output_type": "execute_result"
    }
   ],
   "source": [
    "cfg = cp.ConfigParser()\n",
    "cfg.read('../Creds/eikon.cfg')"
   ]
  },
  {
   "cell_type": "code",
   "execution_count": 11,
   "metadata": {},
   "outputs": [
    {
     "data": {
      "text/plain": [
       "'c4edc4347f434c538a6b554b7b8162bcf5795263'"
      ]
     },
     "execution_count": 11,
     "metadata": {},
     "output_type": "execute_result"
    }
   ],
   "source": [
    "cfg['eikon']['app_id']"
   ]
  },
  {
   "cell_type": "code",
   "execution_count": 13,
   "metadata": {},
   "outputs": [
    {
     "name": "stderr",
     "output_type": "stream",
     "text": [
      "2022-11-15 16:02:45,949 P[6288] [MainThread 140430077523776] Eikon Proxy not running or cannot be reached. Please read the documentation on troubleshooting\n"
     ]
    },
    {
     "ename": "EikonError",
     "evalue": "Error code 401 | Eikon Proxy not running or cannot be reached. Please read the documentation on troubleshooting",
     "output_type": "error",
     "traceback": [
      "\u001b[0;31m---------------------------------------------------------------------------\u001b[0m",
      "\u001b[0;31mEikonError\u001b[0m                                Traceback (most recent call last)",
      "Cell \u001b[0;32mIn [13], line 1\u001b[0m\n\u001b[0;32m----> 1\u001b[0m ek\u001b[39m.\u001b[39;49mget_news_headlines(\u001b[39m'\u001b[39;49m\u001b[39mR:LHAG.DE\u001b[39;49m\u001b[39m'\u001b[39;49m, date_from\u001b[39m=\u001b[39;49m\u001b[39m'\u001b[39;49m\u001b[39m2019-03-06T09:00:00\u001b[39;49m\u001b[39m'\u001b[39;49m, date_to\u001b[39m=\u001b[39;49m\u001b[39m'\u001b[39;49m\u001b[39m2019-03-06T18:00:00\u001b[39;49m\u001b[39m'\u001b[39;49m)\n",
      "File \u001b[0;32m~/Desktop/virtual-envs/eikon-env/lib/python3.8/site-packages/eikon/news_request.py:121\u001b[0m, in \u001b[0;36mget_news_headlines\u001b[0;34m(query, count, date_from, date_to, raw_output, debug)\u001b[0m\n\u001b[1;32m    118\u001b[0m \u001b[39mif\u001b[39;00m date_to \u001b[39mis\u001b[39;00m \u001b[39mnot\u001b[39;00m \u001b[39mNone\u001b[39;00m:\n\u001b[1;32m    119\u001b[0m     payload\u001b[39m.\u001b[39mupdate({\u001b[39m'\u001b[39m\u001b[39mdateTo\u001b[39m\u001b[39m'\u001b[39m: to_datetime(date_to)\u001b[39m.\u001b[39misoformat()})\n\u001b[0;32m--> 121\u001b[0m result \u001b[39m=\u001b[39m eikon\u001b[39m.\u001b[39;49mjson_requests\u001b[39m.\u001b[39;49msend_json_request(News_Headlines_UDF_endpoint, payload, debug\u001b[39m=\u001b[39;49mdebug)\n\u001b[1;32m    123\u001b[0m \u001b[39mif\u001b[39;00m raw_output:\n\u001b[1;32m    124\u001b[0m     \u001b[39mreturn\u001b[39;00m result\n",
      "File \u001b[0;32m~/Desktop/virtual-envs/eikon-env/lib/python3.8/site-packages/eikon/json_requests.py:149\u001b[0m, in \u001b[0;36msend_json_request\u001b[0;34m(entity, payload, debug)\u001b[0m\n\u001b[1;32m    147\u001b[0m error_msg \u001b[39m=\u001b[39m \u001b[39m'\u001b[39m\u001b[39mEikon Proxy not running or cannot be reached. Please read the documentation on troubleshooting\u001b[39m\u001b[39m'\u001b[39m\n\u001b[1;32m    148\u001b[0m logger\u001b[39m.\u001b[39merror(error_msg)\n\u001b[0;32m--> 149\u001b[0m \u001b[39mraise\u001b[39;00m EikonError(\u001b[39m401\u001b[39m, error_msg)\n",
      "\u001b[0;31mEikonError\u001b[0m: Error code 401 | Eikon Proxy not running or cannot be reached. Please read the documentation on troubleshooting"
     ]
    }
   ],
   "source": [
    "ek.get_news_headlines('R:LHAG.DE', date_from='2019-03-06T09:00:00', date_to='2019-03-06T18:00:00')"
   ]
  },
  {
   "cell_type": "code",
   "execution_count": 14,
   "metadata": {},
   "outputs": [
    {
     "name": "stderr",
     "output_type": "stream",
     "text": [
      "2022-11-15 16:03:57,729 P[6288] [MainThread 140430077523776] Eikon Proxy not running or cannot be reached. Please read the documentation on troubleshooting\n"
     ]
    },
    {
     "ename": "EikonError",
     "evalue": "Error code 401 | Eikon Proxy not running or cannot be reached. Please read the documentation on troubleshooting",
     "output_type": "error",
     "traceback": [
      "\u001b[0;31m---------------------------------------------------------------------------\u001b[0m",
      "\u001b[0;31mEikonError\u001b[0m                                Traceback (most recent call last)",
      "Cell \u001b[0;32mIn [14], line 1\u001b[0m\n\u001b[0;32m----> 1\u001b[0m df \u001b[39m=\u001b[39m ek\u001b[39m.\u001b[39;49mget_timeseries([\u001b[39m\"\u001b[39;49m\u001b[39mMSFT.O\u001b[39;49m\u001b[39m\"\u001b[39;49m],\n\u001b[1;32m      2\u001b[0m \n\u001b[1;32m      3\u001b[0m     start_date\u001b[39m=\u001b[39;49m\u001b[39m\"\u001b[39;49m\u001b[39m2016-01-01\u001b[39;49m\u001b[39m\"\u001b[39;49m,\n\u001b[1;32m      4\u001b[0m \n\u001b[1;32m      5\u001b[0m     end_date\u001b[39m=\u001b[39;49m\u001b[39m\"\u001b[39;49m\u001b[39m2016-01-10\u001b[39;49m\u001b[39m\"\u001b[39;49m)\n\u001b[1;32m      7\u001b[0m df\n",
      "File \u001b[0;32m~/Desktop/virtual-envs/eikon-env/lib/python3.8/site-packages/eikon/time_series.py:182\u001b[0m, in \u001b[0;36mget_timeseries\u001b[0;34m(rics, fields, start_date, end_date, interval, count, calendar, corax, normalize, raw_output, debug)\u001b[0m\n\u001b[1;32m    179\u001b[0m         logger\u001b[39m.\u001b[39merror(error_msg)\n\u001b[1;32m    180\u001b[0m         \u001b[39mraise\u001b[39;00m \u001b[39mValueError\u001b[39;00m(error_msg)\n\u001b[0;32m--> 182\u001b[0m ts_result \u001b[39m=\u001b[39m eikon\u001b[39m.\u001b[39;49mjson_requests\u001b[39m.\u001b[39;49msend_json_request(TimeSeries_UDF_endpoint, payload, debug\u001b[39m=\u001b[39;49mdebug)\n\u001b[1;32m    184\u001b[0m \u001b[39mif\u001b[39;00m ts_result:\n\u001b[1;32m    185\u001b[0m     \u001b[39m# Catch all errors to raise a warning\u001b[39;00m\n\u001b[1;32m    186\u001b[0m     ts_timeseries_data \u001b[39m=\u001b[39m ts_result\u001b[39m.\u001b[39mget(\u001b[39m'\u001b[39m\u001b[39mtimeseriesData\u001b[39m\u001b[39m'\u001b[39m)\n",
      "File \u001b[0;32m~/Desktop/virtual-envs/eikon-env/lib/python3.8/site-packages/eikon/json_requests.py:149\u001b[0m, in \u001b[0;36msend_json_request\u001b[0;34m(entity, payload, debug)\u001b[0m\n\u001b[1;32m    147\u001b[0m error_msg \u001b[39m=\u001b[39m \u001b[39m'\u001b[39m\u001b[39mEikon Proxy not running or cannot be reached. Please read the documentation on troubleshooting\u001b[39m\u001b[39m'\u001b[39m\n\u001b[1;32m    148\u001b[0m logger\u001b[39m.\u001b[39merror(error_msg)\n\u001b[0;32m--> 149\u001b[0m \u001b[39mraise\u001b[39;00m EikonError(\u001b[39m401\u001b[39m, error_msg)\n",
      "\u001b[0;31mEikonError\u001b[0m: Error code 401 | Eikon Proxy not running or cannot be reached. Please read the documentation on troubleshooting"
     ]
    }
   ],
   "source": [
    "df = ek.get_timeseries([\"MSFT.O\"],\n",
    "\n",
    "    start_date=\"2016-01-01\",\n",
    "\n",
    "    end_date=\"2016-01-10\")\n",
    "\n",
    "df"
   ]
  }
 ],
 "metadata": {
  "kernelspec": {
   "display_name": "Python 3.8.10 ('eikon-env')",
   "language": "python",
   "name": "python3"
  },
  "language_info": {
   "codemirror_mode": {
    "name": "ipython",
    "version": 3
   },
   "file_extension": ".py",
   "mimetype": "text/x-python",
   "name": "python",
   "nbconvert_exporter": "python",
   "pygments_lexer": "ipython3",
   "version": "3.8.10 (default, Nov 14 2022, 12:59:47) \n[GCC 9.4.0]"
  },
  "orig_nbformat": 4,
  "vscode": {
   "interpreter": {
    "hash": "fd0d6b7e3873fbd9e99f7f1c003aa8e1218326df118771db636cf6b2ee93956e"
   }
  }
 },
 "nbformat": 4,
 "nbformat_minor": 2
}
